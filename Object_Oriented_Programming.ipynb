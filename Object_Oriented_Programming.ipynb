{
 "cells": [
  {
   "cell_type": "code",
   "execution_count": 111,
   "id": "027190c3",
   "metadata": {},
   "outputs": [],
   "source": [
    "class tv():\n",
    "    \n",
    "    \n",
    "    # Constructor method of the class. This class \"needs\" as arguments: \"name\", \"age\", \"salary\" and optionaly \"department\"\n",
    "    def __init__(self, on, volume, active_channel, value_input, size):\n",
    "        # self is the instance of the class.\n",
    "    \n",
    "        # on -> boolean\n",
    "        # volume -> (float in [0,100])\n",
    "        # active_channel -> int in [1,10]) \n",
    "        # input -> str in [\"Anthena\", \"HDMI1\", \"HDMI2\", \"HDMI3\"])\n",
    "        # size -> (float in [42, 50, 55, 65, 75])\n",
    "    \n",
    "        self.on = on\n",
    "        self.volume = volume\n",
    "        self.active_channel = active_channel\n",
    "        self.value_input = value_input\n",
    "        self.size = size\n",
    "   \n",
    "    def switch_on(self, on):\n",
    "        if(self.on == \"on\"):\n",
    "            print(\"TV is already on.\")\n",
    "        else:\n",
    "            self.sit = \"off\"\n",
    "            print(\"TV switching on\")\n",
    "        \n",
    "    \n",
    "    # Another method of the class.\n",
    "    def switch_off(self, on):\n",
    "        if(self.on == \"off\"):\n",
    "            print(\"TV is already off.\")     \n",
    "        else:\n",
    "            self.on = \"on\"\n",
    "            print(\"TV switching on\")\n",
    "        \n",
    "    def set_volume(self, volume):\n",
    "        print(\"The current volume is \", volume, \".\")\n",
    "        change = int(input(\"What volume level would you like (1-100)?:\"))\n",
    "        if change in range(1-100):\n",
    "                     volume = change\n",
    "        return print(volume)\n",
    "  \n",
    "    def change_channel(self, active_channel):\n",
    "        print(\"The current channel is \", active_channel, \".\")\n",
    "        change = int(input(\"What channel would you like (1-10)?:\"))\n",
    "        if change in range(1-10):\n",
    "                     active_channel = change\n",
    "        return print(active_channel)\n",
    "    def set_input(self, value_input):\n",
    "        print(\"The current input is \", value_input, \".\")\n",
    "        change = input(\"What input would you like (Anthena, HDMI1, HDMI2, HDMI3)?:\")\n",
    "        if value_input in [\"Anthena\", \"HDMI1\", \"HDMI2\", \"HDMI3\"]:\n",
    "            value_input = change\n",
    "        return print(value_input)\n",
    "        \n",
    "            \n",
    "                \n",
    "        \n",
    "\n"
   ]
  },
  {
   "cell_type": "code",
   "execution_count": 112,
   "id": "3d661ac3",
   "metadata": {},
   "outputs": [],
   "source": [
    "tv1 = tv('on', 25, 2, \"HDMI1\", 55)"
   ]
  },
  {
   "cell_type": "code",
   "execution_count": 77,
   "id": "9616cb4d",
   "metadata": {},
   "outputs": [
    {
     "name": "stdout",
     "output_type": "stream",
     "text": [
      "TV is already on.\n"
     ]
    }
   ],
   "source": [
    "tv1.switch_on(on=\"on\")"
   ]
  },
  {
   "cell_type": "code",
   "execution_count": 80,
   "id": "d074c2de",
   "metadata": {},
   "outputs": [
    {
     "name": "stdout",
     "output_type": "stream",
     "text": [
      "TV switching on\n"
     ]
    }
   ],
   "source": [
    "tv1.switch_off(on=\"on\")"
   ]
  },
  {
   "cell_type": "code",
   "execution_count": 75,
   "id": "cae9c920",
   "metadata": {},
   "outputs": [
    {
     "name": "stdout",
     "output_type": "stream",
     "text": [
      "The current channel is  1 .\n",
      "What channel would you like (1-10)?:3\n"
     ]
    },
    {
     "data": {
      "text/plain": [
       "1"
      ]
     },
     "execution_count": 75,
     "metadata": {},
     "output_type": "execute_result"
    }
   ],
   "source": [
    "tv1.change_channel(active_channel=1)"
   ]
  },
  {
   "cell_type": "code",
   "execution_count": 93,
   "id": "495d5cbf",
   "metadata": {},
   "outputs": [
    {
     "name": "stdout",
     "output_type": "stream",
     "text": [
      "The current volume is  3 .\n",
      "What volume level would you like (1-100)?:15\n"
     ]
    },
    {
     "data": {
      "text/plain": [
       "3"
      ]
     },
     "execution_count": 93,
     "metadata": {},
     "output_type": "execute_result"
    }
   ],
   "source": [
    "tv1.set_volume(volume=3)"
   ]
  },
  {
   "cell_type": "code",
   "execution_count": 113,
   "id": "1988f851",
   "metadata": {},
   "outputs": [
    {
     "name": "stdout",
     "output_type": "stream",
     "text": [
      "The current input is  HDMI1 .\n",
      "What input would you like (Anthena, HDMI1, HDMI2, HDMI3)?:Anthena\n",
      "Anthena\n"
     ]
    }
   ],
   "source": [
    "tv1.set_input(value_input=\"HDMI1\")"
   ]
  }
 ],
 "metadata": {
  "kernelspec": {
   "display_name": "Python 3 (ipykernel)",
   "language": "python",
   "name": "python3"
  },
  "language_info": {
   "codemirror_mode": {
    "name": "ipython",
    "version": 3
   },
   "file_extension": ".py",
   "mimetype": "text/x-python",
   "name": "python",
   "nbconvert_exporter": "python",
   "pygments_lexer": "ipython3",
   "version": "3.9.13"
  }
 },
 "nbformat": 4,
 "nbformat_minor": 5
}
